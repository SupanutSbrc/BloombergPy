{
 "cells": [
  {
   "cell_type": "markdown",
   "metadata": {},
   "source": [
    "AGRI"
   ]
  },
  {
   "cell_type": "code",
   "execution_count": null,
   "metadata": {},
   "outputs": [],
   "source": [
    "from xbbg import blp\n",
    "import pandas as pd\n",
    "stocklist = ['EE TB EQUITY', 'GFPT TB EQUITY', 'LEE TB EQUITY', 'NER TB EQUITY', 'PCE TB EQUITY', 'PPPM TB EQUITY', 'STA TB EQUITY', 'TEGH TB EQUITY', 'TFM TB EQUITY', 'TRUBB TB EQUITY', 'UPOIC TB EQUITY', 'UVAN TB EQUITY', 'VPO TB EQUITY']\n",
    "tes = blp.bdh(stocklist, flds=[\n",
    "    #liquidity\n",
    "    'CUR_RATIO',\n",
    "    'QUICK_RATIO',\n",
    "    'CASH_RATIO',\n",
    "    #solvency\n",
    "    'TOT_DEBT_TO_TOT_ASSET',\n",
    "    'TOT_DEBT_TO_COM_EQY',\n",
    "    'TOT_DEBT_TO_TOT_EQY',\n",
    "    'INTEREST_COVERAGE_RATIO',\n",
    "    #efficiency\n",
    "    'ASSET_TURNOVER',\n",
    "    'INVENT_TURNOVER',\n",
    "    'ACCT_RCV_TURN',\n",
    "    'INV_TO_CASH_DAYS',\n",
    "    #profitabiliy\n",
    "    'GROSS_MARGIN',\n",
    "    'OPER_MARGIN',\n",
    "    'RETURN_ON_ASSET',\n",
    "    'RETURN_COM_EQY',\n",
    "    #equity financing\n",
    "    'COM_EQY_TO_TOT_ASSET',\n",
    "    #Investor Confidencce\n",
    "    'BOOK_VAL_PER_SH',\n",
    "    'PX_TO_BOOK_RATIO',\n",
    "    'PE_RATIO',\n",
    "    'CURRENT_EV_TO_T12M_EBITDA',\n",
    "    ]\n",
    "        ,start_date='2000-01-01',end_date='2024-10-10',Per='Q')\n",
    "pd.set_option('display.max_rows', None)\n",
    "pd.set_option(\"display.max_columns\", None)\n",
    "tes\n",
    "all_stocks = pd.DataFrame()\n",
    "for i in range(len(stocklist)):\n",
    "    showstock = pd.DataFrame(tes[stocklist[i]]).reset_index()\n",
    "    showstock.rename(columns={'index': 'Date'}, inplace=True)\n",
    "    showstock['Stock'] = stocklist[i]\n",
    "    all_stocks = pd.concat([all_stocks, showstock], ignore_index=True)\n",
    "all_stocks\n",
    "all_stocks.to_excel('AGRI.xlsx', index=False)\n"
   ]
  }
 ],
 "metadata": {
  "kernelspec": {
   "display_name": "Python 3",
   "language": "python",
   "name": "python3"
  },
  "language_info": {
   "codemirror_mode": {
    "name": "ipython",
    "version": 3
   },
   "file_extension": ".py",
   "mimetype": "text/x-python",
   "name": "python",
   "nbconvert_exporter": "python",
   "pygments_lexer": "ipython3",
   "version": "3.12.6"
  }
 },
 "nbformat": 4,
 "nbformat_minor": 2
}
