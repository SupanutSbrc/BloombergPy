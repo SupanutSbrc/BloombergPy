{
 "cells": [
  {
   "cell_type": "code",
   "execution_count": null,
   "metadata": {},
   "outputs": [],
   "source": [
    "from xbbg import blp\n",
    "import pandas as pd\n",
    "l2013 = ['BJCHI TB EQUITY', 'NYT TB EQUITY', 'MEGA TB EQUITY', 'THREL TB EQUITY', 'CSS TB EQUITY', 'M TB EQUITY', 'PACE TB EQUITY', 'CKP TB EQUITY', 'MC TB EQUITY', 'NOK TB EQUITY', 'PTG TB EQUITY', 'CHG TB EQUITY', 'PPP TB EQUITY']\n",
    "l2014 = ['EPG TB EQUITY', 'MTC TB EQUITY', 'VPO TB EQUITY', 'CBG TB EQUITY', 'BRR TB EQUITY', 'BA TB EQUITY', 'RICHY TB EQUITY', 'SAPPE TB EQUITY', 'SBNEXT TB EQUITY', 'TAE TB EQUITY', 'SAWAD TB EQUITY', 'KTIS TB EQUITY', 'ICHI TB EQUITY', 'SUTHA TB EQUITY', 'PCSGH TB EQUITY', 'AJA TB EQUITY']\n",
    "l2015 = ['AMATAV TB EQUITY', 'SPRC TB EQUITY', 'TKN TB EQUITY', 'J TB EQUITY', 'LPH TB EQUITY', 'SCI TB EQUITY', 'TFG TB EQUITY', 'ORI TB EQUITY', 'SJWD TB EQUITY', 'COM7 TB EQUITY', 'ASEFA TB EQUITY', 'WICE TB EQUITY', 'BR TB EQUITY', 'GPSC TB EQUITY', 'SLP TB EQUITY', 'PMTA TB EQUITY', 'PLAT TB EQUITY', 'S11 TB EQUITY', 'SCN TB EQUITY', 'PLANB TB EQUITY']\n",
    "l2016 = ['TNR TB EQUITY', 'FN TB EQUITY', 'ALLA TB EQUITY', 'BPP TB EQUITY', 'SQ TB EQUITY', 'BCPG TB EQUITY', 'RJH TB EQUITY', 'EKH TB EQUITY', 'ALT TB EQUITY', 'TPBI TB EQUITY']\n",
    "l2017 = ['DDD TB EQUITY', 'CPT TB EQUITY', 'HUMAN TB EQUITY', 'THG TB EQUITY', 'GULF TB EQUITY', 'GPI TB EQUITY', 'SKE TB EQUITY', 'RSP TB EQUITY', 'TOA TB EQUITY', 'WPH TB EQUITY', 'SKN TB EQUITY', 'PRM TB EQUITY', 'III TB EQUITY', 'INGRS TB EQUITY', 'FTE TB EQUITY', 'BGRIM TB EQUITY', 'GGC TB EQUITY', 'WHAUP TB EQUITY', 'TPIPP TB EQUITY', 'ASAP TB EQUITY', 'RPH TB EQUITY']\n",
    "l2018 = ['TQM TB EQUITY', 'NER TB EQUITY', 'PR9 TB EQUITY', 'BGC TB EQUITY', 'OSP TB EQUITY', 'TEAMG TB EQUITY', 'CMAN TB EQUITY']\n",
    "l2019 = ['SFLEX TB EQUITY', 'BAM TB EQUITY', 'ACE TB EQUITY', 'SHR TB EQUITY', 'RBF TB EQUITY', 'CPW TB EQUITY', 'AWC TB EQUITY', 'DOHOME TB EQUITY', 'ILM TB EQUITY', 'VRANDA TB EQUITY', 'ZEN TB EQUITY']\n",
    "l2020 = ['SA TB EQUITY', 'KEX TB EQUITY', 'SAK TB EQUITY', 'JR TB EQUITY', 'RT TB EQUITY', 'NCAP TB EQUITY', 'WGE TB EQUITY', 'SCGP TB EQUITY', 'SO TB EQUITY', 'NRF TB EQUITY', 'MICRO TB EQUITY', 'SCM TB EQUITY', 'STGT TB EQUITY', 'CRC TB EQUITY']\n",
    "l2021 = ['NV TB EQUITY', 'WFX TB EQUITY', 'BRI TB EQUITY', 'PIN TB EQUITY', 'ONEE TB EQUITY', 'TFM TB EQUITY', 'HENG TB EQUITY', 'SVT TB EQUITY', 'UBE TB EQUITY', 'CV TB EQUITY', 'AMR TB EQUITY', 'STECH TB EQUITY', 'SNNP TB EQUITY', 'MENA TB EQUITY', 'NSL TB EQUITY', 'TIDLOR TB EQUITY', 'DMT TB EQUITY', 'ASW TB EQUITY', 'KISS TB EQUITY', 'OR TB EQUITY']\n",
    "l2022 = ['MOSHI TB EQUITY', 'SM TB EQUITY', 'DTCENT TB EQUITY', 'SGC TB EQUITY', 'ITC TB EQUITY', 'AURA TB EQUITY', 'POLY TB EQUITY', 'BTG TB EQUITY', 'AAI TB EQUITY', 'PCC TB EQUITY', 'TEGH TB EQUITY', 'CH TB EQUITY', 'TGE TB EQUITY', 'TLI TB EQUITY', 'TEKA TB EQUITY', 'PLUS TB EQUITY', 'FTI TB EQUITY', 'JDF TB EQUITY', 'BBGI TB EQUITY', 'PEACE TB EQUITY', 'CIVIL TB EQUITY']\n",
    "l2023 = ['SCGD TB EQUITY', 'ANI TB EQUITY', 'SAFE TB EQUITY', 'ETL TB EQUITY', 'NAM TB EQUITY', 'ORN TB EQUITY', 'WINDOW TB EQUITY', 'TAN TB EQUITY', 'SAV TB EQUITY', 'SINO TB EQUITY', 'COCOCO TB EQUITY', 'PSP TB EQUITY', 'KCG TB EQUITY', 'PHG TB EQUITY', 'BLC TB EQUITY', 'GABLE TB EQUITY', 'MGC TB EQUITY', 'PRTR TB EQUITY', 'CHASE TB EQUITY']\n",
    "list = [l2013,l2014,l2015,l2016,l2017,l2018,l2019,l2020,l2021,l2022,l2023]\n",
    "listname = ['l2013', 'l2014', 'l2015', 'l2016', 'l2017', 'l2018', 'l2019', 'l2020', 'l2021', 'l2022', 'l2023']\n",
    "\n",
    "for firm in range(len(list)):\n",
    "    stocklist = list[firm]\n",
    "    tes = blp.bdh(stocklist, flds=[\n",
    "        'RETURN_ON_ASSET',\n",
    "        'CUR_RATIO',\n",
    "        'TOT_DEBT_TO_TOT_EQY',\n",
    "        'RETURN_COM_EQY',\n",
    "\n",
    "        'TOT_EQY_TO_TOT_ASSET',\n",
    "\n",
    "        ]\n",
    "            ,start_date='2000-01-01',end_date='2024-10-10',Per='Q')\n",
    "    pd.set_option('display.max_rows', None)\n",
    "    pd.set_option(\"display.max_columns\", None)\n",
    "    tes\n",
    "    all_stocks = pd.DataFrame()\n",
    "    for i in range(len(stocklist)):\n",
    "        showstock = pd.DataFrame(tes[stocklist[i]]).reset_index()\n",
    "        showstock.rename(columns={'index': 'Date'}, inplace=True)\n",
    "        showstock['Stock'] = stocklist[i]\n",
    "        all_stocks = pd.concat([all_stocks, showstock], ignore_index=True)\n",
    "    filename = f\"{listname[firm]}.xlsx\"\n",
    "    all_stocks.to_excel(filename, index=False)"
   ]
  }
 ],
 "metadata": {
  "kernelspec": {
   "display_name": "Python 3",
   "language": "python",
   "name": "python3"
  },
  "language_info": {
   "codemirror_mode": {
    "name": "ipython",
    "version": 3
   },
   "file_extension": ".py",
   "mimetype": "text/x-python",
   "name": "python",
   "nbconvert_exporter": "python",
   "pygments_lexer": "ipython3",
   "version": "3.10.2"
  }
 },
 "nbformat": 4,
 "nbformat_minor": 2
}
